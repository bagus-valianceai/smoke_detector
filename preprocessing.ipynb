{
 "cells": [
  {
   "cell_type": "markdown",
   "metadata": {},
   "source": [
    "## 1. Load Required Libraries"
   ]
  },
  {
   "cell_type": "code",
   "execution_count": 1,
   "metadata": {},
   "outputs": [],
   "source": [
    "import src.util as utils\n",
    "import pandas as pd\n",
    "from imblearn.under_sampling import RandomUnderSampler"
   ]
  },
  {
   "cell_type": "markdown",
   "metadata": {},
   "source": [
    "## 2. Load Configuration File"
   ]
  },
  {
   "cell_type": "code",
   "execution_count": 2,
   "metadata": {},
   "outputs": [],
   "source": [
    "config = utils.load_config()"
   ]
  },
  {
   "cell_type": "markdown",
   "metadata": {},
   "source": [
    "## 3. Load Dataset"
   ]
  },
  {
   "cell_type": "code",
   "execution_count": 3,
   "metadata": {},
   "outputs": [],
   "source": [
    "def load_dataset(config_data: dict):\n",
    "    # Load every set of data\n",
    "    x_train = utils.pickle_load(config_data[\"train_set_path\"][0])\n",
    "    y_train = utils.pickle_load(config_data[\"train_set_path\"][1])\n",
    "\n",
    "    x_valid = utils.pickle_load(config_data[\"valid_set_path\"][0])\n",
    "    y_valid = utils.pickle_load(config_data[\"valid_set_path\"][1])\n",
    "\n",
    "    x_test = utils.pickle_load(config_data[\"test_set_path\"][0])\n",
    "    y_test = utils.pickle_load(config_data[\"test_set_path\"][1])\n",
    "\n",
    "    # Concatenate x and y each set\n",
    "    train_set = pd.concat([x_train, y_train], axis = 1)\n",
    "    valid_set = pd.concat([x_valid, y_valid], axis = 1)\n",
    "    test_set = pd.concat([x_test, y_test], axis = 1)\n",
    "\n",
    "    # Return 3 set of data\n",
    "    return train_set, valid_set, test_set"
   ]
  },
  {
   "cell_type": "code",
   "execution_count": 4,
   "metadata": {},
   "outputs": [],
   "source": [
    "train_set, valid_set, test_set = load_dataset(config)"
   ]
  },
  {
   "cell_type": "markdown",
   "metadata": {},
   "source": [
    "## 4. Balancing Train Label"
   ]
  },
  {
   "cell_type": "code",
   "execution_count": 5,
   "metadata": {},
   "outputs": [],
   "source": [
    "x_rus, y_rus = RandomUnderSampler(random_state = 42).fit_resample(\n",
    "    train_set.drop(columns = config[\"label\"]),\n",
    "    train_set[config[\"label\"]]\n",
    ")\n",
    "train_set_bal = pd.concat([x_rus, y_rus], axis = 1)"
   ]
  },
  {
   "cell_type": "markdown",
   "metadata": {},
   "source": [
    "## 5. Removing Outliers"
   ]
  },
  {
   "cell_type": "code",
   "execution_count": 6,
   "metadata": {},
   "outputs": [],
   "source": [
    "def remove_outliers(set_data):\n",
    "    set_data = set_data.copy()\n",
    "    list_of_set_data = list()\n",
    "\n",
    "    for col_name in set_data.columns[:-1]:\n",
    "        q1 = set_data[col_name].quantile(0.25)\n",
    "        q3 = set_data[col_name].quantile(0.75)\n",
    "        iqr = q3 - q1\n",
    "        set_data_cleaned = set_data[~((set_data[col_name] < (q1 - 1.5 * iqr)) | (set_data[col_name] > (q3 + 1.5 * iqr)))].copy()\n",
    "        list_of_set_data.append(set_data_cleaned.copy())\n",
    "    \n",
    "    set_data_cleaned = pd.concat(list_of_set_data)\n",
    "    count_duplicated_index = set_data_cleaned.index.value_counts()\n",
    "    used_index_data = count_duplicated_index[count_duplicated_index == (set_data.shape[1]-1)].index\n",
    "    set_data_cleaned = set_data_cleaned.loc[used_index_data].drop_duplicates()\n",
    "\n",
    "    return set_data_cleaned"
   ]
  },
  {
   "cell_type": "code",
   "execution_count": 7,
   "metadata": {},
   "outputs": [],
   "source": [
    "train_set_bal_cleaned = remove_outliers(train_set_bal)"
   ]
  },
  {
   "cell_type": "code",
   "execution_count": 8,
   "metadata": {},
   "outputs": [
    {
     "data": {
      "text/html": [
       "<div>\n",
       "<style scoped>\n",
       "    .dataframe tbody tr th:only-of-type {\n",
       "        vertical-align: middle;\n",
       "    }\n",
       "\n",
       "    .dataframe tbody tr th {\n",
       "        vertical-align: top;\n",
       "    }\n",
       "\n",
       "    .dataframe thead th {\n",
       "        text-align: right;\n",
       "    }\n",
       "</style>\n",
       "<table border=\"1\" class=\"dataframe\">\n",
       "  <thead>\n",
       "    <tr style=\"text-align: right;\">\n",
       "      <th></th>\n",
       "      <th>Temperature[C]</th>\n",
       "      <th>Humidity[%]</th>\n",
       "      <th>Pressure[hPa]</th>\n",
       "      <th>PM1.0</th>\n",
       "      <th>PM2.5</th>\n",
       "      <th>NC0.5</th>\n",
       "      <th>NC1.0</th>\n",
       "      <th>NC2.5</th>\n",
       "      <th>TVOC[ppb]</th>\n",
       "      <th>eCO2[ppm]</th>\n",
       "      <th>Raw H2</th>\n",
       "      <th>Raw Ethanol</th>\n",
       "      <th>CNT</th>\n",
       "      <th>Fire Alarm</th>\n",
       "    </tr>\n",
       "  </thead>\n",
       "  <tbody>\n",
       "    <tr>\n",
       "      <th>53451</th>\n",
       "      <td>28.170</td>\n",
       "      <td>43.68</td>\n",
       "      <td>937.321</td>\n",
       "      <td>1.85</td>\n",
       "      <td>1.93</td>\n",
       "      <td>12.76</td>\n",
       "      <td>1.991</td>\n",
       "      <td>0.045</td>\n",
       "      <td>125</td>\n",
       "      <td>400</td>\n",
       "      <td>12793</td>\n",
       "      <td>20595</td>\n",
       "      <td>2309</td>\n",
       "      <td>0</td>\n",
       "    </tr>\n",
       "    <tr>\n",
       "      <th>6038</th>\n",
       "      <td>-8.501</td>\n",
       "      <td>53.28</td>\n",
       "      <td>939.662</td>\n",
       "      <td>1.46</td>\n",
       "      <td>1.51</td>\n",
       "      <td>10.02</td>\n",
       "      <td>1.563</td>\n",
       "      <td>0.035</td>\n",
       "      <td>142</td>\n",
       "      <td>400</td>\n",
       "      <td>13186</td>\n",
       "      <td>20131</td>\n",
       "      <td>6038</td>\n",
       "      <td>1</td>\n",
       "    </tr>\n",
       "    <tr>\n",
       "      <th>8829</th>\n",
       "      <td>-5.129</td>\n",
       "      <td>52.19</td>\n",
       "      <td>939.286</td>\n",
       "      <td>0.39</td>\n",
       "      <td>0.40</td>\n",
       "      <td>2.65</td>\n",
       "      <td>0.414</td>\n",
       "      <td>0.009</td>\n",
       "      <td>342</td>\n",
       "      <td>400</td>\n",
       "      <td>13073</td>\n",
       "      <td>19915</td>\n",
       "      <td>8829</td>\n",
       "      <td>1</td>\n",
       "    </tr>\n",
       "    <tr>\n",
       "      <th>45860</th>\n",
       "      <td>24.610</td>\n",
       "      <td>52.85</td>\n",
       "      <td>938.691</td>\n",
       "      <td>2.02</td>\n",
       "      <td>2.10</td>\n",
       "      <td>13.91</td>\n",
       "      <td>2.170</td>\n",
       "      <td>0.049</td>\n",
       "      <td>1352</td>\n",
       "      <td>415</td>\n",
       "      <td>12946</td>\n",
       "      <td>19393</td>\n",
       "      <td>20866</td>\n",
       "      <td>1</td>\n",
       "    </tr>\n",
       "    <tr>\n",
       "      <th>33650</th>\n",
       "      <td>20.470</td>\n",
       "      <td>53.19</td>\n",
       "      <td>939.318</td>\n",
       "      <td>0.45</td>\n",
       "      <td>0.47</td>\n",
       "      <td>3.12</td>\n",
       "      <td>0.487</td>\n",
       "      <td>0.011</td>\n",
       "      <td>339</td>\n",
       "      <td>400</td>\n",
       "      <td>13091</td>\n",
       "      <td>19923</td>\n",
       "      <td>8656</td>\n",
       "      <td>1</td>\n",
       "    </tr>\n",
       "    <tr>\n",
       "      <th>...</th>\n",
       "      <td>...</td>\n",
       "      <td>...</td>\n",
       "      <td>...</td>\n",
       "      <td>...</td>\n",
       "      <td>...</td>\n",
       "      <td>...</td>\n",
       "      <td>...</td>\n",
       "      <td>...</td>\n",
       "      <td>...</td>\n",
       "      <td>...</td>\n",
       "      <td>...</td>\n",
       "      <td>...</td>\n",
       "      <td>...</td>\n",
       "      <td>...</td>\n",
       "    </tr>\n",
       "    <tr>\n",
       "      <th>53706</th>\n",
       "      <td>28.770</td>\n",
       "      <td>42.23</td>\n",
       "      <td>937.317</td>\n",
       "      <td>1.80</td>\n",
       "      <td>1.87</td>\n",
       "      <td>12.41</td>\n",
       "      <td>1.935</td>\n",
       "      <td>0.044</td>\n",
       "      <td>163</td>\n",
       "      <td>429</td>\n",
       "      <td>12771</td>\n",
       "      <td>20558</td>\n",
       "      <td>2564</td>\n",
       "      <td>0</td>\n",
       "    </tr>\n",
       "    <tr>\n",
       "      <th>26094</th>\n",
       "      <td>16.330</td>\n",
       "      <td>50.47</td>\n",
       "      <td>939.751</td>\n",
       "      <td>0.17</td>\n",
       "      <td>0.18</td>\n",
       "      <td>1.19</td>\n",
       "      <td>0.186</td>\n",
       "      <td>0.004</td>\n",
       "      <td>13</td>\n",
       "      <td>400</td>\n",
       "      <td>13050</td>\n",
       "      <td>19951</td>\n",
       "      <td>1100</td>\n",
       "      <td>0</td>\n",
       "    </tr>\n",
       "    <tr>\n",
       "      <th>54937</th>\n",
       "      <td>24.550</td>\n",
       "      <td>44.47</td>\n",
       "      <td>937.394</td>\n",
       "      <td>1.92</td>\n",
       "      <td>1.99</td>\n",
       "      <td>13.21</td>\n",
       "      <td>2.060</td>\n",
       "      <td>0.047</td>\n",
       "      <td>0</td>\n",
       "      <td>400</td>\n",
       "      <td>13420</td>\n",
       "      <td>21217</td>\n",
       "      <td>3795</td>\n",
       "      <td>0</td>\n",
       "    </tr>\n",
       "    <tr>\n",
       "      <th>53444</th>\n",
       "      <td>25.650</td>\n",
       "      <td>48.38</td>\n",
       "      <td>937.334</td>\n",
       "      <td>1.95</td>\n",
       "      <td>2.03</td>\n",
       "      <td>13.43</td>\n",
       "      <td>2.094</td>\n",
       "      <td>0.047</td>\n",
       "      <td>142</td>\n",
       "      <td>412</td>\n",
       "      <td>12792</td>\n",
       "      <td>20580</td>\n",
       "      <td>2302</td>\n",
       "      <td>0</td>\n",
       "    </tr>\n",
       "    <tr>\n",
       "      <th>54893</th>\n",
       "      <td>27.120</td>\n",
       "      <td>39.71</td>\n",
       "      <td>937.390</td>\n",
       "      <td>2.12</td>\n",
       "      <td>2.20</td>\n",
       "      <td>14.57</td>\n",
       "      <td>2.271</td>\n",
       "      <td>0.051</td>\n",
       "      <td>0</td>\n",
       "      <td>400</td>\n",
       "      <td>13456</td>\n",
       "      <td>21304</td>\n",
       "      <td>3751</td>\n",
       "      <td>0</td>\n",
       "    </tr>\n",
       "  </tbody>\n",
       "</table>\n",
       "<p>18137 rows × 14 columns</p>\n",
       "</div>"
      ],
      "text/plain": [
       "       Temperature[C]  Humidity[%]  Pressure[hPa]  PM1.0  PM2.5  NC0.5  NC1.0  \\\n",
       "53451          28.170        43.68        937.321   1.85   1.93  12.76  1.991   \n",
       "6038           -8.501        53.28        939.662   1.46   1.51  10.02  1.563   \n",
       "8829           -5.129        52.19        939.286   0.39   0.40   2.65  0.414   \n",
       "45860          24.610        52.85        938.691   2.02   2.10  13.91  2.170   \n",
       "33650          20.470        53.19        939.318   0.45   0.47   3.12  0.487   \n",
       "...               ...          ...            ...    ...    ...    ...    ...   \n",
       "53706          28.770        42.23        937.317   1.80   1.87  12.41  1.935   \n",
       "26094          16.330        50.47        939.751   0.17   0.18   1.19  0.186   \n",
       "54937          24.550        44.47        937.394   1.92   1.99  13.21  2.060   \n",
       "53444          25.650        48.38        937.334   1.95   2.03  13.43  2.094   \n",
       "54893          27.120        39.71        937.390   2.12   2.20  14.57  2.271   \n",
       "\n",
       "       NC2.5  TVOC[ppb]  eCO2[ppm]  Raw H2  Raw Ethanol    CNT  Fire Alarm  \n",
       "53451  0.045        125        400   12793        20595   2309           0  \n",
       "6038   0.035        142        400   13186        20131   6038           1  \n",
       "8829   0.009        342        400   13073        19915   8829           1  \n",
       "45860  0.049       1352        415   12946        19393  20866           1  \n",
       "33650  0.011        339        400   13091        19923   8656           1  \n",
       "...      ...        ...        ...     ...          ...    ...         ...  \n",
       "53706  0.044        163        429   12771        20558   2564           0  \n",
       "26094  0.004         13        400   13050        19951   1100           0  \n",
       "54937  0.047          0        400   13420        21217   3795           0  \n",
       "53444  0.047        142        412   12792        20580   2302           0  \n",
       "54893  0.051          0        400   13456        21304   3751           0  \n",
       "\n",
       "[18137 rows x 14 columns]"
      ]
     },
     "execution_count": 8,
     "metadata": {},
     "output_type": "execute_result"
    }
   ],
   "source": [
    "train_set_bal_cleaned"
   ]
  },
  {
   "cell_type": "code",
   "execution_count": 9,
   "metadata": {},
   "outputs": [
    {
     "data": {
      "text/plain": [
       "Temperature[C]    0\n",
       "Humidity[%]       0\n",
       "Pressure[hPa]     0\n",
       "PM1.0             0\n",
       "PM2.5             0\n",
       "NC0.5             0\n",
       "NC1.0             0\n",
       "NC2.5             0\n",
       "TVOC[ppb]         0\n",
       "eCO2[ppm]         0\n",
       "Raw H2            0\n",
       "Raw Ethanol       0\n",
       "CNT               0\n",
       "Fire Alarm        0\n",
       "dtype: int64"
      ]
     },
     "execution_count": 9,
     "metadata": {},
     "output_type": "execute_result"
    }
   ],
   "source": [
    "train_set_bal_cleaned.isnull().sum()"
   ]
  },
  {
   "cell_type": "markdown",
   "metadata": {},
   "source": [
    "## 6. Dump Trainset"
   ]
  },
  {
   "cell_type": "code",
   "execution_count": 10,
   "metadata": {},
   "outputs": [],
   "source": [
    "utils.pickle_dump(train_set_bal_cleaned[config[\"predictors\"]], config[\"train_feng_set_path\"][0])\n",
    "utils.pickle_dump(train_set_bal_cleaned[config[\"label\"]], config[\"train_feng_set_path\"][1])\n",
    "\n",
    "utils.pickle_dump(valid_set[config[\"predictors\"]], config[\"valid_feng_set_path\"][0])\n",
    "utils.pickle_dump(valid_set[config[\"label\"]], config[\"valid_feng_set_path\"][1])\n",
    "\n",
    "utils.pickle_dump(test_set[config[\"predictors\"]], config[\"test_feng_set_path\"][0])\n",
    "utils.pickle_dump(test_set[config[\"label\"]], config[\"test_feng_set_path\"][1])"
   ]
  },
  {
   "cell_type": "code",
   "execution_count": null,
   "metadata": {},
   "outputs": [],
   "source": []
  }
 ],
 "metadata": {
  "kernelspec": {
   "display_name": "Python 3 (ipykernel)",
   "language": "python",
   "name": "python3"
  },
  "language_info": {
   "codemirror_mode": {
    "name": "ipython",
    "version": 3
   },
   "file_extension": ".py",
   "mimetype": "text/x-python",
   "name": "python",
   "nbconvert_exporter": "python",
   "pygments_lexer": "ipython3",
   "version": "3.10.12"
  },
  "vscode": {
   "interpreter": {
    "hash": "a72c98e1e790ca7e9680f4346f41285cd0cde3f836014d4813139e4566575d23"
   }
  }
 },
 "nbformat": 4,
 "nbformat_minor": 4
}
